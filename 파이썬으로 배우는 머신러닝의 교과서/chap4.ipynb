{
 "cells": [
  {
   "cell_type": "markdown",
   "id": "182ab3d6",
   "metadata": {},
   "source": [
    "# CHAP4 머신러닝에 필요한 수학의 기본"
   ]
  },
  {
   "cell_type": "markdown",
   "id": "d05cc228",
   "metadata": {},
   "source": [
    "## 4.1 벡터"
   ]
  },
  {
   "cell_type": "markdown",
   "id": "bb82fa00",
   "metadata": {},
   "source": [
    "### 4.1.1 벡터란\n",
    "\n",
    "- 세로 벡터 : $a = \\begin{bmatrix}1\\\\2\\\\ \\end{bmatrix}$, $b = \\begin{bmatrix}2\\\\1\\\\ \\end{bmatrix}$\n",
    "\n",
    "\n",
    "- 가로 벡터 : $c = \\begin{bmatrix}1&2\\\\ \\end{bmatrix}$, $d = \\begin{bmatrix}1&3&5&4\\\\ \\end{bmatrix}$\n",
    "\n",
    "\n",
    "- 요소 : 벡터를 구성하는 숫자 하나하나.\n",
    "\n",
    "\n",
    "- 차원 : 벡터가 가지는 요소의 수 eg) **a** : 2차원 세로 벡터, **d** : 4차원 가로 벡터\n",
    "\n",
    "\n",
    "- 전치(T) : 세로 벡터 $\\rightarrow$ 가로 벡터, 가로 벡터 $\\rightarrow$ 세로 벡터\n",
    "\n",
    "    eg ) $a^T = \\begin{bmatrix}1\\\\3\\\\ \\end{bmatrix}^T = \\begin{bmatrix}1&3\\\\ \\end{bmatrix}$, $d^T = \\begin{bmatrix}1&3&5&4\\\\ \\end{bmatrix}^T = \\begin{bmatrix}1\\\\3\\\\5\\\\4\\\\ \\end{bmatrix}$"
   ]
  },
  {
   "cell_type": "markdown",
   "id": "088cfa53",
   "metadata": {},
   "source": [
    "### 4.1.2 파이썬으로 벡터를 정의하기"
   ]
  },
  {
   "cell_type": "code",
   "execution_count": 2,
   "id": "6526ef6d",
   "metadata": {},
   "outputs": [
    {
     "name": "stdout",
     "output_type": "stream",
     "text": [
      "[2 1] <class 'numpy.ndarray'>\n"
     ]
    }
   ],
   "source": [
    "import numpy as np\n",
    "a = np.array([2,1])\n",
    "print(a, type(a))"
   ]
  },
  {
   "cell_type": "markdown",
   "id": "92ea0bb0",
   "metadata": {},
   "source": [
    "### 4.1.3 세로 벡터를 나타내기"
   ]
  },
  {
   "cell_type": "code",
   "execution_count": 3,
   "id": "4f308374",
   "metadata": {},
   "outputs": [
    {
     "name": "stdout",
     "output_type": "stream",
     "text": [
      "[[1 2]\n",
      " [3 4]]\n",
      "[[1]\n",
      " [2]]\n"
     ]
    }
   ],
   "source": [
    "c = np.array([[1,2],[3,4]]) # 2x2 2차원 ndarray\n",
    "print(c)\n",
    "\n",
    "d = np.array([[1], [2]]) # 2x1 2차원 ndarray\n",
    "print(d)"
   ]
  },
  {
   "cell_type": "markdown",
   "id": "b274f227",
   "metadata": {},
   "source": [
    "### 4.1.4 전치를 나타내기"
   ]
  },
  {
   "cell_type": "code",
   "execution_count": 4,
   "id": "efbedd6e",
   "metadata": {},
   "outputs": [
    {
     "name": "stdout",
     "output_type": "stream",
     "text": [
      "[[1 2]]\n"
     ]
    }
   ],
   "source": [
    "print(d.T)"
   ]
  },
  {
   "cell_type": "markdown",
   "id": "bb758b34",
   "metadata": {},
   "source": [
    "### 4.1.5 덧셈과 뺄셈"
   ]
  },
  {
   "cell_type": "code",
   "execution_count": 7,
   "id": "fdb57417",
   "metadata": {},
   "outputs": [
    {
     "name": "stdout",
     "output_type": "stream",
     "text": [
      "[3 4] <class 'numpy.ndarray'> <class 'numpy.ndarray'> <class 'numpy.ndarray'>\n",
      "[ 1 -2]\n"
     ]
    }
   ],
   "source": [
    "a = np.array([2, 1])\n",
    "b = np.array([1, 3])\n",
    "print(a + b, type(a), type(b), type(a+b)) # list형과 다르게(두 리스트 연결) 각 요소별로 연산.\n",
    "print(a - b)"
   ]
  },
  {
   "cell_type": "markdown",
   "id": "899383ce",
   "metadata": {},
   "source": [
    "### 4.1.6 스칼라의 곱셈"
   ]
  },
  {
   "cell_type": "code",
   "execution_count": 8,
   "id": "117fd7f5",
   "metadata": {},
   "outputs": [
    {
     "name": "stdout",
     "output_type": "stream",
     "text": [
      "[4 2]\n"
     ]
    }
   ],
   "source": [
    "print(2*a)"
   ]
  },
  {
   "cell_type": "markdown",
   "id": "260a09ba",
   "metadata": {},
   "source": [
    "### 4.1.7 내적\n",
    "\n",
    "$b \\cdot c = \\begin{bmatrix}1\\\\3\\\\ \\end{bmatrix} \\cdot \\begin{bmatrix}4\\\\2\\\\ \\end{bmatrix} = 1\\times4 + 3\\times2 = 10 $\n",
    "\n",
    "$w\\cdot x = w_0x_0+w_1x_1+\\cdots+w_{D-1}x_{D-1} = \\sum_{i=0}^{D-1} w_ix_i$\n",
    "\n",
    "*행렬 표기(벡터 표기) = 성분 표기*"
   ]
  },
  {
   "cell_type": "code",
   "execution_count": 9,
   "id": "7300f134",
   "metadata": {},
   "outputs": [
    {
     "name": "stdout",
     "output_type": "stream",
     "text": [
      "10\n"
     ]
    }
   ],
   "source": [
    "b = np.array([1, 3])\n",
    "c = np.array([4, 2])\n",
    "print(b.dot(c))"
   ]
  },
  {
   "cell_type": "markdown",
   "id": "8bcab8a1",
   "metadata": {},
   "source": [
    "### 4.1.8 벡터의 크기"
   ]
  },
  {
   "cell_type": "code",
   "execution_count": 10,
   "id": "aa2bfeb7",
   "metadata": {},
   "outputs": [
    {
     "name": "stdout",
     "output_type": "stream",
     "text": [
      "3.1622776601683795\n"
     ]
    }
   ],
   "source": [
    "a = np.array([1, 3])\n",
    "print(np.linalg.norm(a))"
   ]
  },
  {
   "cell_type": "markdown",
   "id": "c3e955c6",
   "metadata": {},
   "source": [
    "### 4.2.2 합을 내적으로 계산하기\n",
    "\n",
    "\n",
    "$1 + 2 + \\cdots + 1000 = \\begin{bmatrix}1\\\\1\\\\\\vdots\\\\1\\\\ \\end{bmatrix} \\cdot \\begin{bmatrix}1\\\\2\\\\\\vdots\\\\1000\\\\ \\end{bmatrix} = 1\\times1 + 1\\times2 + \\cdots + 1\\times1000 $"
   ]
  },
  {
   "cell_type": "code",
   "execution_count": 11,
   "id": "8c89d9a1",
   "metadata": {},
   "outputs": [
    {
     "name": "stdout",
     "output_type": "stream",
     "text": [
      "500500.0\n"
     ]
    }
   ],
   "source": [
    "import numpy as np\n",
    "a = np.ones(1000) # [1 1 1 ... 1]\n",
    "b = np.arange(1, 1001) # [1 2 3 ... 1000]\n",
    "print(a.dot(b)) # 계산처리가 보다 빠름"
   ]
  },
  {
   "cell_type": "markdown",
   "id": "59cf14bf",
   "metadata": {},
   "source": [
    "## 4.4 미분"
   ]
  }
 ],
 "metadata": {
  "kernelspec": {
   "display_name": "Python 3 (ipykernel)",
   "language": "python",
   "name": "python3"
  },
  "language_info": {
   "codemirror_mode": {
    "name": "ipython",
    "version": 3
   },
   "file_extension": ".py",
   "mimetype": "text/x-python",
   "name": "python",
   "nbconvert_exporter": "python",
   "pygments_lexer": "ipython3",
   "version": "3.9.12"
  }
 },
 "nbformat": 4,
 "nbformat_minor": 5
}
