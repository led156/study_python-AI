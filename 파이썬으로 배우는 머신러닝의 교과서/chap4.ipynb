{
 "cells": [
  {
   "cell_type": "markdown",
   "id": "182ab3d6",
   "metadata": {},
   "source": [
    "# CHAP4 머신러닝에 필요한 수학의 기본"
   ]
  },
  {
   "cell_type": "markdown",
   "id": "d05cc228",
   "metadata": {},
   "source": [
    "## 4.1 벡터"
   ]
  },
  {
   "cell_type": "markdown",
   "id": "bb82fa00",
   "metadata": {},
   "source": [
    "### 4.1.1 벡터란\n",
    "\n",
    "- 세로 벡터 : $a = \\begin{bmatrix}1\\\\2\\\\ \\end{bmatrix}$, $b = \\begin{bmatrix}2\\\\1\\\\ \\end{bmatrix}$\n",
    "\n",
    "\n",
    "- 가로 벡터 : $c = \\begin{bmatrix}1&2\\\\ \\end{bmatrix}$, $d = \\begin{bmatrix}1&3&5&4\\\\ \\end{bmatrix}$\n",
    "\n",
    "\n",
    "- 요소 : 벡터를 구성하는 숫자 하나하나.\n",
    "\n",
    "\n",
    "- 차원 : 벡터가 가지는 요소의 수 eg) **a** : 2차원 세로 벡터, **d** : 4차원 가로 벡터\n",
    "\n",
    "\n",
    "- 전치(T) : 세로 벡터 $\\rightarrow$ 가로 벡터, 가로 벡터 $\\rightarrow$ 세로 벡터\n",
    "\n",
    "    eg ) $a^T = \\begin{bmatrix}1\\\\3\\\\ \\end{bmatrix}^T = \\begin{bmatrix}1&3\\\\ \\end{bmatrix}$, $d^T = \\begin{bmatrix}1&3&5&4\\\\ \\end{bmatrix}^T = \\begin{bmatrix}1\\\\3\\\\5\\\\4\\\\ \\end{bmatrix}$"
   ]
  },
  {
   "cell_type": "markdown",
   "id": "088cfa53",
   "metadata": {},
   "source": [
    "### 4.1.2 파이썬으로 벡터를 정의하기"
   ]
  },
  {
   "cell_type": "code",
   "execution_count": 2,
   "id": "6526ef6d",
   "metadata": {},
   "outputs": [
    {
     "name": "stdout",
     "output_type": "stream",
     "text": [
      "[2 1] <class 'numpy.ndarray'>\n"
     ]
    }
   ],
   "source": [
    "import numpy as np\n",
    "a = np.array([2,1])\n",
    "print(a, type(a))"
   ]
  },
  {
   "cell_type": "markdown",
   "id": "92ea0bb0",
   "metadata": {},
   "source": [
    "### 4.1.3 세로 벡터를 나타내기"
   ]
  },
  {
   "cell_type": "code",
   "execution_count": 3,
   "id": "4f308374",
   "metadata": {},
   "outputs": [
    {
     "name": "stdout",
     "output_type": "stream",
     "text": [
      "[[1 2]\n",
      " [3 4]]\n",
      "[[1]\n",
      " [2]]\n"
     ]
    }
   ],
   "source": [
    "c = np.array([[1,2],[3,4]]) # 2x2 2차원 ndarray\n",
    "print(c)\n",
    "\n",
    "d = np.array([[1], [2]]) # 2x1 2차원 ndarray\n",
    "print(d)"
   ]
  },
  {
   "cell_type": "markdown",
   "id": "b274f227",
   "metadata": {},
   "source": [
    "### 4.1.4 전치를 나타내기"
   ]
  },
  {
   "cell_type": "code",
   "execution_count": 4,
   "id": "efbedd6e",
   "metadata": {},
   "outputs": [
    {
     "name": "stdout",
     "output_type": "stream",
     "text": [
      "[[1 2]]\n"
     ]
    }
   ],
   "source": [
    "print(d.T)"
   ]
  },
  {
   "cell_type": "markdown",
   "id": "bb758b34",
   "metadata": {},
   "source": [
    "### 4.1.5 덧셈과 뺄셈"
   ]
  },
  {
   "cell_type": "code",
   "execution_count": 7,
   "id": "fdb57417",
   "metadata": {},
   "outputs": [
    {
     "name": "stdout",
     "output_type": "stream",
     "text": [
      "[3 4] <class 'numpy.ndarray'> <class 'numpy.ndarray'> <class 'numpy.ndarray'>\n",
      "[ 1 -2]\n"
     ]
    }
   ],
   "source": [
    "a = np.array([2, 1])\n",
    "b = np.array([1, 3])\n",
    "print(a + b, type(a), type(b), type(a+b)) # list형과 다르게(두 리스트 연결) 각 요소별로 연산.\n",
    "print(a - b)"
   ]
  },
  {
   "cell_type": "markdown",
   "id": "899383ce",
   "metadata": {},
   "source": [
    "### 4.1.6 스칼라의 곱셈"
   ]
  },
  {
   "cell_type": "code",
   "execution_count": 8,
   "id": "117fd7f5",
   "metadata": {},
   "outputs": [
    {
     "name": "stdout",
     "output_type": "stream",
     "text": [
      "[4 2]\n"
     ]
    }
   ],
   "source": [
    "print(2*a)"
   ]
  },
  {
   "cell_type": "markdown",
   "id": "260a09ba",
   "metadata": {},
   "source": [
    "### 4.1.7 내적\n",
    "\n",
    "$b \\cdot c = \\begin{bmatrix}1\\\\3\\\\ \\end{bmatrix} \\cdot \\begin{bmatrix}4\\\\2\\\\ \\end{bmatrix} = 1\\times4 + 3\\times2 = 10 $\n",
    "\n",
    "$w\\cdot x = w_0x_0+w_1x_1+\\cdots+w_{D-1}x_{D-1} = \\sum_{i=0}^{D-1} w_ix_i$\n",
    "\n",
    "*행렬 표기(벡터 표기) = 성분 표기*"
   ]
  },
  {
   "cell_type": "code",
   "execution_count": 9,
   "id": "7300f134",
   "metadata": {},
   "outputs": [
    {
     "name": "stdout",
     "output_type": "stream",
     "text": [
      "10\n"
     ]
    }
   ],
   "source": [
    "b = np.array([1, 3])\n",
    "c = np.array([4, 2])\n",
    "print(b.dot(c))"
   ]
  },
  {
   "cell_type": "markdown",
   "id": "8bcab8a1",
   "metadata": {},
   "source": [
    "### 4.1.8 벡터의 크기"
   ]
  },
  {
   "cell_type": "code",
   "execution_count": 10,
   "id": "aa2bfeb7",
   "metadata": {},
   "outputs": [
    {
     "name": "stdout",
     "output_type": "stream",
     "text": [
      "3.1622776601683795\n"
     ]
    }
   ],
   "source": [
    "a = np.array([1, 3])\n",
    "print(np.linalg.norm(a))"
   ]
  },
  {
   "cell_type": "markdown",
   "id": "c3e955c6",
   "metadata": {},
   "source": [
    "### 4.2.2 합을 내적으로 계산하기\n",
    "\n",
    "\n",
    "$1 + 2 + \\cdots + 1000 = \\begin{bmatrix}1\\\\1\\\\\\vdots\\\\1\\\\ \\end{bmatrix} \\cdot \\begin{bmatrix}1\\\\2\\\\\\vdots\\\\1000\\\\ \\end{bmatrix} = 1\\times1 + 1\\times2 + \\cdots + 1\\times1000 $"
   ]
  },
  {
   "cell_type": "code",
   "execution_count": 11,
   "id": "8c89d9a1",
   "metadata": {},
   "outputs": [
    {
     "name": "stdout",
     "output_type": "stream",
     "text": [
      "500500.0\n"
     ]
    }
   ],
   "source": [
    "import numpy as np\n",
    "a = np.ones(1000) # [1 1 1 ... 1]\n",
    "b = np.arange(1, 1001) # [1 2 3 ... 1000]\n",
    "print(a.dot(b)) # 계산처리가 보다 빠름"
   ]
  },
  {
   "cell_type": "markdown",
   "id": "59cf14bf",
   "metadata": {},
   "source": [
    "## 4.4 미분\n",
    "\n",
    "- 미분 : 함수의 최소지점은 기울기가 0이라는 특징이 있다. 따라서 함수의 기울기를 구하는 미분을 이용해 오차함수의 최솟값을 구하는 등에 이용할 수 있다.\n",
    "\n",
    "\n",
    "$$\\frac{df(w)}{dw}, \\frac{d}{dx}f(w), f'(w) \\rightarrow w에 대한 미분$$\n",
    "<center>($\\sum$과 마찬가지로 미분 기호 d/dw는 오른쪽에만 작용한다.)</center>"
   ]
  },
  {
   "cell_type": "markdown",
   "id": "e0151a48",
   "metadata": {},
   "source": [
    "### 4.4.4 중첩함수의 미분\n",
    "1. 대입 후 전개 이용\n",
    "2. (1번으로 풀기 어려울때) 연쇄 법칙 chain rule : 함수합성의 도함수에 대한 공식 \n",
    "\n",
    "$$\\frac{d}{dw}f(g(w)) = \\frac{df}{dg} \\cdot \\frac{dg}{dw}$$\n",
    "\n",
    "\n",
    "eg) $\\frac{df}{dw} = \\frac{df}{dg} \\cdot \\frac{dg}{dw}$\n",
    "\n",
    "- $\\frac{df}{dg}$ : f를 g로 미분한다.  $\\frac{dg}{dw}$ : g를 w로 미분한다\n",
    "  \n",
    "  \n",
    "- $\\frac{df}{dg} = \\frac{d}{dg}g^2 = 2g, \\frac{d}{dw}(aw+b) = a$\n",
    "\n",
    "    $\\Rightarrow \\frac{df}{dg} = 2ga = 2(aw+b)a = 2a^2w + 2ab$\n",
    "    \n",
    "\n",
    "- 삼중, 사중... 확장 가능.  $f(w) = f(g(h(w))) \\rightarrow \\frac{df}{dw} = \\frac{df}{dg} \\cdot \\frac{dg}{dh} \\cdot \\frac{dh}{dw}$"
   ]
  },
  {
   "cell_type": "markdown",
   "id": "e6d0396c",
   "metadata": {},
   "source": [
    "## 4.5 편미분"
   ]
  },
  {
   "cell_type": "markdown",
   "id": "690c9d2f",
   "metadata": {},
   "source": [
    "### 4.5.1 편미분이란\n",
    "- 복수의 변수를 갖는 해에서 편미분하는 변수에만 주목해서 미분, 다른 변수들을 상수로 간주하는 것.\n",
    "\n",
    "\n",
    "- 그 함수의 편미분한 변수 방향에서의 기울기 구하기 가능.\n",
    "$$\\frac{\\partial f(w_0, w_1)}{\\partial w_0},  \\frac{\\partial}{\\partial w_0}f(w_0, w_1),  f'_{w_0}$$\n",
    "\n",
    "eg) $f(w_0, w_1) = w_0^2+2w_0w_1+3$\n",
    "    \n",
    "1) $w_0$에서 편미분 $\\frac{\\partial f}{\\partial w_0} = 2w_0 + 2w_1$\n",
    "    \n",
    "2) $w_1$에서 편미분 $\\frac{\\partial f}{\\partial w_1} = 2w_0$"
   ]
  },
  {
   "cell_type": "markdown",
   "id": "a7dec459",
   "metadata": {},
   "source": [
    "### 4.5.2 편미분과 도형\n"
   ]
  },
  {
   "cell_type": "markdown",
   "id": "26921d30",
   "metadata": {},
   "source": [
    "### 4.5.3 경사를 그림으로 나타내기"
   ]
  },
  {
   "cell_type": "code",
   "execution_count": 5,
   "id": "d65cdfb1",
   "metadata": {},
   "outputs": [
    {
     "data": {
      "image/png": "[encoded data removed]",
      "text/plain": [
       "<Figure size 648x288 with 1 Axes>"
      ]
     },
     "metadata": {
      "needs_background": "light"
     },
     "output_type": "display_data"
    }
   ],
   "source": [
    "import numpy as np\n",
    "import matplotlib.pyplot as plt\n",
    "\n",
    "def f(w0, w1): # 함수 f 정의\n",
    "    return w0**2 + 2*w0*w1 + 3\n",
    "def df_dw0(w0, w1): # f의 w0에 대한 편미분\n",
    "    return 2*w0 + 2*w1\n",
    "def df_dw1(w0, w1): # f의 w1에 대한 편미분\n",
    "    return 2*w0 + 0*w1\n",
    "\n",
    "w_range = 2\n",
    "dw = 0.25\n",
    "\n",
    "w0 = np.arange(-w_range, w_range + dw, dw)\n",
    "w1 = np.arange(-w_range, w_range + dw, dw)\n",
    "wn = w0.shape[0]\n",
    "ww0, ww1 = np.meshgrid(w0, w1) # 격자 모양으로 나눈 w0과 w1을 2차원 배열 ww0, ww1에 저장.\n",
    "ff = np.zeros((len(w0), len(w1)))\n",
    "dff_dw0 = np.zeros((len(w0), len(w1)))\n",
    "dff_dw1 = np.zeros((len(w0), len(w1)))\n",
    "for i0 in range(wn): # 편미분 값 계산. ddf_dw0, ddf_dw1에 저장.\n",
    "    for i1 in range(wn):\n",
    "        ff[i1, i0] = f(w0[i0], w1[i1])\n",
    "        dff_dw0[i1, i0] = df_dw0(w0[i0], w1[i1])\n",
    "        dff_dw1[i1, i0] = df_dw1(w0[i0], w1[i1])\n",
    "\n",
    "plt.figure(figsize=(9, 4))\n",
    "plt.subplots_adjust(wspace=0.3)\n",
    "plt.subplot(1, 2, 1)\n",
    "cont = plt.contour(ww0, ww1, ff, 10, colors='k') # f의 등고선 표시\n",
    "cont.clabel(fmt='%2.0f', fontsize = 8)\n",
    "plt.xticks(range(-w_range, w_range+1, 1))\n",
    "plt.yticks(range(-w_range, w_range+1, 1))\n",
    "plt.xlim(-w_range - 0.5, w_range + 0.5)\n",
    "plt.ylim(-w_range - 0.5, w_range + 0.5)\n",
    "plt.xlabel(\"$w_0$\", fontsize = 14)\n",
    "plt.xlabel(\"$w_1$\", fontsize = 14)\n",
    "\n",
    "plt.subplot(1, 2, 1)\n",
    "plt.quiver(ww0, ww1, dff_dw0, dff_dw1) # f의 경사 벡터 표시. 좌표 점 (ww0, ww1)부터 방향 (ddf_dw0, dff_dw1)의 화살표를 그림.\n",
    "plt.xlabel('$w_0$', fontsize = 14)\n",
    "plt.xlabel('$w_1$', fontsize = 14)\n",
    "plt.xticks(range(-w_range, w_range+1, 1))\n",
    "plt.yticks(range(-w_range, w_range+1, 1))\n",
    "plt.xlim(-w_range - 0.5, w_range + 0.5)\n",
    "plt.ylim(-w_range - 0.5, w_range + 0.5)\n",
    "plt.show()\n",
    "\n",
    "# 벡터는 각 점에서 경사가 높은 쪽을 향하고 있음. 경사가 가파른 정도가 클수록(등고선 간격이 좁을수록) 화살표가 길다.\n",
    "# 화살표를 따라가거나, 역방향으로 가다보면 지형의 높은 부분, 낮은 부분에 도달한다 -> 경사가 함수의 최대점, 최소점을 찾는데 중요한 개념이 됨.\n",
    "# => 머신러닝에서 오차 함수의 최소점을 구하기 위해 오차 함수의 경사를 이용."
   ]
  },
  {
   "cell_type": "markdown",
   "id": "3a4c29f9",
   "metadata": {},
   "source": [
    "### 4.5.4 다변수의 중첩 함수의 미분\n",
    "- 둘 이상의 독립 변수를 갖는 다변수 함수가 중첩되어 있을 때, 연쇄 법칙(chain rule)을 이용해 미분 가능하다.\n",
    "- 이는 여러층의 신경망의 학습 규칙을 도출할 때 사용.\n",
    "$$\\frac{\\partial}{\\partial w_0}f(g_0(w_0, w_1), g_1(w_0, w_1), \\cdots, g_M(w_0, w_1)) = \\sum_{m=0}^{M}{\\frac{\\partial f}{\\partial w_m}\\cdot\\frac{\\partial g_m}{\\partial w_0}}$$\n",
    "\n",
    "eg) $f = (g_0+2g_1-1)^2, g_0 = w_0+2w_1+1, g_1 = 2w_0+3w_1-1$ ($g_0, g_1$가 $w_0, w_1$의 함수에서, $f$가 $g_0, g_1$의 함수가 된 경우)\n",
    "\n",
    "- $\\frac{\\partial}{\\partial w_0}f(g_0(w_0, w_1), g_1(w_0, w_1)) = \\frac{\\partial f}{\\partial g_0}\\cdot\\frac{\\partial g_0}{\\partial w_0}+\\frac{\\partial f}{\\partial g_1}\\cdot\\frac{\\partial g_1}{\\partial w_0}$\n",
    "\n",
    "\n",
    "- $\\frac{\\partial f}{\\partial g_0} = 2(g_0+2g_1-1), \\frac{\\partial f}{\\partial g_1} = 2(g_0+2g_1-1)\\cdot2$\n",
    "\n",
    "\n",
    "- $\\frac{\\partial g_0}{\\partial w_0} = 1, \\frac{\\partial g_1}{\\partial w_0} = 2$\n",
    "    \n",
    "    $\\Rightarrow \\frac{\\partial f}{\\partial w_0} = 10g_0 + 20g_1 - 10$\n",
    "    \n",
    "    "
   ]
  },
  {
   "cell_type": "markdown",
   "id": "28fd3924",
   "metadata": {},
   "source": [
    "### 4.5.5 합과 미분의 교환\n",
    "미분과 합의 기호를 순서를 바꿀 수 있다.\n",
    "$$\\frac{\\partial}{\\partial w}\\sum_{n}{f_n(w)} = \\sum_{n}{\\frac{\\partial}{\\partial w}f_n(w)}$$"
   ]
  }
 ],
 "metadata": {
  "kernelspec": {
   "display_name": "Python 3 (ipykernel)",
   "language": "python",
   "name": "python3"
  },
  "language_info": {
   "codemirror_mode": {
    "name": "ipython",
    "version": 3
   },
   "file_extension": ".py",
   "mimetype": "text/x-python",
   "name": "python",
   "nbconvert_exporter": "python",
   "pygments_lexer": "ipython3",
   "version": "3.9.12"
  }
 },
 "nbformat": 4,
 "nbformat_minor": 5
}
