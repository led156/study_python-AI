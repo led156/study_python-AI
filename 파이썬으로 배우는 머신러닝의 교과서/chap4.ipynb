{
 "cells": [
  {
   "cell_type": "markdown",
   "id": "182ab3d6",
   "metadata": {},
   "source": [
    "# CHAP4 머신러닝에 필요한 수학의 기본"
   ]
  },
  {
   "cell_type": "markdown",
   "id": "d05cc228",
   "metadata": {},
   "source": [
    "## 4.1 벡터"
   ]
  },
  {
   "cell_type": "markdown",
   "id": "bb82fa00",
   "metadata": {},
   "source": [
    "### 4.1.1 벡터란\n",
    "\n",
    "- 세로 벡터 : $a = \\begin{bmatrix}1\\\\2\\\\ \\end{bmatrix}$, $b = \\begin{bmatrix}2\\\\1\\\\ \\end{bmatrix}$\n",
    "\n",
    "\n",
    "- 가로 벡터 : $c = \\begin{bmatrix}1&2\\\\ \\end{bmatrix}$, $d = \\begin{bmatrix}1&3&5&4\\\\ \\end{bmatrix}$\n",
    "\n",
    "\n",
    "- 요소 : 벡터를 구성하는 숫자 하나하나.\n",
    "\n",
    "\n",
    "- 차원 : 벡터가 가지는 요소의 수 eg) **a** : 2차원 세로 벡터, **d** : 4차원 가로 벡터\n",
    "\n",
    "\n",
    "- 전치(T) : 세로 벡터 $\\rightarrow$ 가로 벡터, 가로 벡터 $\\rightarrow$ 세로 벡터\n",
    "\n",
    "    eg ) $a^T = \\begin{bmatrix}1\\\\3\\\\ \\end{bmatrix}^T = \\begin{bmatrix}1&3\\\\ \\end{bmatrix}$, $d^T = \\begin{bmatrix}1&3&5&4\\\\ \\end{bmatrix}^T = \\begin{bmatrix}1\\\\3\\\\5\\\\4\\\\ \\end{bmatrix}$"
   ]
  },
  {
   "cell_type": "markdown",
   "id": "088cfa53",
   "metadata": {},
   "source": [
    "### 4.1.2 파이썬으로 벡터를 정의하기"
   ]
  },
  {
   "cell_type": "code",
   "execution_count": 2,
   "id": "6526ef6d",
   "metadata": {},
   "outputs": [
    {
     "name": "stdout",
     "output_type": "stream",
     "text": [
      "[2 1] <class 'numpy.ndarray'>\n"
     ]
    }
   ],
   "source": [
    "import numpy as np\n",
    "a = np.array([2,1])\n",
    "print(a, type(a))"
   ]
  },
  {
   "cell_type": "markdown",
   "id": "92ea0bb0",
   "metadata": {},
   "source": [
    "### 4.1.3 세로 벡터를 나타내기"
   ]
  },
  {
   "cell_type": "code",
   "execution_count": 3,
   "id": "4f308374",
   "metadata": {},
   "outputs": [
    {
     "name": "stdout",
     "output_type": "stream",
     "text": [
      "[[1 2]\n",
      " [3 4]]\n",
      "[[1]\n",
      " [2]]\n"
     ]
    }
   ],
   "source": [
    "c = np.array([[1,2],[3,4]]) # 2x2 2차원 ndarray\n",
    "print(c)\n",
    "\n",
    "d = np.array([[1], [2]]) # 2x1 2차원 ndarray\n",
    "print(d)"
   ]
  },
  {
   "cell_type": "markdown",
   "id": "b274f227",
   "metadata": {},
   "source": [
    "### 4.1.4 전치를 나타내기"
   ]
  },
  {
   "cell_type": "code",
   "execution_count": 4,
   "id": "efbedd6e",
   "metadata": {},
   "outputs": [
    {
     "name": "stdout",
     "output_type": "stream",
     "text": [
      "[[1 2]]\n"
     ]
    }
   ],
   "source": [
    "print(d.T)"
   ]
  },
  {
   "cell_type": "markdown",
   "id": "bb758b34",
   "metadata": {},
   "source": [
    "### 4.1.5 덧셈과 뺄셈"
   ]
  },
  {
   "cell_type": "code",
   "execution_count": 7,
   "id": "fdb57417",
   "metadata": {},
   "outputs": [
    {
     "name": "stdout",
     "output_type": "stream",
     "text": [
      "[3 4] <class 'numpy.ndarray'> <class 'numpy.ndarray'> <class 'numpy.ndarray'>\n",
      "[ 1 -2]\n"
     ]
    }
   ],
   "source": [
    "a = np.array([2, 1])\n",
    "b = np.array([1, 3])\n",
    "print(a + b, type(a), type(b), type(a+b)) # list형과 다르게(두 리스트 연결) 각 요소별로 연산.\n",
    "print(a - b)"
   ]
  },
  {
   "cell_type": "markdown",
   "id": "899383ce",
   "metadata": {},
   "source": [
    "### 4.1.6 스칼라의 곱셈"
   ]
  },
  {
   "cell_type": "code",
   "execution_count": 8,
   "id": "117fd7f5",
   "metadata": {},
   "outputs": [
    {
     "name": "stdout",
     "output_type": "stream",
     "text": [
      "[4 2]\n"
     ]
    }
   ],
   "source": [
    "print(2*a)"
   ]
  },
  {
   "cell_type": "markdown",
   "id": "260a09ba",
   "metadata": {},
   "source": [
    "### 4.1.7 내적\n",
    "\n",
    "$b \\cdot c = \\begin{bmatrix}1\\\\3\\\\ \\end{bmatrix} \\cdot \\begin{bmatrix}4\\\\2\\\\ \\end{bmatrix} = 1\\times4 + 3\\times2 = 10 $\n",
    "\n",
    "$w\\cdot x = w_0x_0+w_1x_1+\\cdots+w_{D-1}x_{D-1} = \\sum_{i=0}^{D-1} w_ix_i$\n",
    "\n",
    "*행렬 표기(벡터 표기) = 성분 표기*"
   ]
  },
  {
   "cell_type": "code",
   "execution_count": 9,
   "id": "7300f134",
   "metadata": {},
   "outputs": [
    {
     "name": "stdout",
     "output_type": "stream",
     "text": [
      "10\n"
     ]
    }
   ],
   "source": [
    "b = np.array([1, 3])\n",
    "c = np.array([4, 2])\n",
    "print(b.dot(c))"
   ]
  },
  {
   "cell_type": "markdown",
   "id": "8bcab8a1",
   "metadata": {},
   "source": [
    "### 4.1.8 벡터의 크기"
   ]
  },
  {
   "cell_type": "code",
   "execution_count": 10,
   "id": "aa2bfeb7",
   "metadata": {},
   "outputs": [
    {
     "name": "stdout",
     "output_type": "stream",
     "text": [
      "3.1622776601683795\n"
     ]
    }
   ],
   "source": [
    "a = np.array([1, 3])\n",
    "print(np.linalg.norm(a))"
   ]
  },
  {
   "cell_type": "markdown",
   "id": "c3e955c6",
   "metadata": {},
   "source": [
    "### 4.2.2 합을 내적으로 계산하기\n",
    "\n",
    "\n",
    "$1 + 2 + \\cdots + 1000 = \\begin{bmatrix}1\\\\1\\\\\\vdots\\\\1\\\\ \\end{bmatrix} \\cdot \\begin{bmatrix}1\\\\2\\\\\\vdots\\\\1000\\\\ \\end{bmatrix} = 1\\times1 + 1\\times2 + \\cdots + 1\\times1000 $"
   ]
  },
  {
   "cell_type": "code",
   "execution_count": 11,
   "id": "8c89d9a1",
   "metadata": {},
   "outputs": [
    {
     "name": "stdout",
     "output_type": "stream",
     "text": [
      "500500.0\n"
     ]
    }
   ],
   "source": [
    "import numpy as np\n",
    "a = np.ones(1000) # [1 1 1 ... 1]\n",
    "b = np.arange(1, 1001) # [1 2 3 ... 1000]\n",
    "print(a.dot(b)) # 계산처리가 보다 빠름"
   ]
  },
  {
   "cell_type": "markdown",
   "id": "59cf14bf",
   "metadata": {},
   "source": [
    "## 4.4 미분\n",
    "\n",
    "- 미분 : 함수의 최소지점은 기울기가 0이라는 특징이 있다. 따라서 함수의 기울기를 구하는 미분을 이용해 오차함수의 최솟값을 구하는 등에 이용할 수 있다.\n",
    "\n",
    "\n",
    "$$\\frac{df(w)}{dw}, \\frac{d}{dx}f(w), f'(w) \\rightarrow w에 대한 미분$$\n",
    "<center>($\\sum$과 마찬가지로 미분 기호 d/dw는 오른쪽에만 작용한다.)</center>"
   ]
  },
  {
   "cell_type": "markdown",
   "id": "df5bb2d5",
   "metadata": {},
   "source": [
    "### 4.4.4 중첩함수의 미분\n",
    "1. 대입 후 전개 이용\n",
    "2. (1번으로 풀기 어려울때) 연쇄 법칙 chain rule : 함수합성의 도함수에 대한 공식 \n",
    "\n",
    "$$\\frac{d}{dw}f(g(w)) = \\frac{df}{dg} \\cdot \\frac{dg}{dw}$$\n",
    "\n",
    "\n",
    "eg) $\\frac{df}{dw} = \\frac{df}{dg} \\cdot \\frac{dg}{dw}$\n",
    "\n",
    "- $\\frac{df}{dg}$ : f를 g로 미분한다.  $\\frac{dg}{dw}$ : g를 w로 미분한다\n",
    "  \n",
    "  \n",
    "- $\\frac{df}{dg} = \\frac{d}{dg}g^2 = 2g, \\frac{d}{dw}(aw+b) = a$\n",
    "\n",
    "    $\\Rightarrow \\frac{df}{dg} = 2ga = 2(aw+b)a = 2a^2w + 2ab$\n",
    "    \n",
    "\n",
    "- 삼중, 사중... 확장 가능.  $f(w) = f(g(h(w))) \\rightarrow \\frac{df}{dw} = \\frac{df}{dg} \\cdot \\frac{dg}{dh} \\cdot \\frac{dh}{dw}$"
   ]
  },
  {
   "cell_type": "markdown",
   "id": "d5446b16",
   "metadata": {},
   "source": [
    "## 4.5 편미분"
   ]
  },
  {
   "cell_type": "markdown",
   "id": "3b44a0b2",
   "metadata": {},
   "source": [
    "### 4.5.1 편미분이란\n",
    "- 복수의 변수를 갖는 해에서 편미분하는 변수에만 주목해서 미분, 다른 변수들을 상수로 간주하는 것.\n",
    "\n",
    "\n",
    "- 그 함수의 편미분한 변수 방향에서의 기울기 구하기 가능.\n",
    "$$\\frac{\\partial f(w_0, w_1)}{\\partial w_0},  \\frac{\\partial}{\\partial w_0}f(w_0, w_1),  f'_{w_0}$$\n",
    "\n",
    "eg) $f(w_0, w_1) = w_0^2+2w_0w_1+3$\n",
    "    \n",
    "1) $w_0$에서 편미분 $\\frac{\\partial f}{\\partial w_0} = 2w_0 + 2w_1$\n",
    "    \n",
    "2) $w_1$에서 편미분 $\\frac{\\partial f}{\\partial w_1} = 2w_0$"
   ]
  },
  {
   "cell_type": "markdown",
   "id": "c5eefcc0",
   "metadata": {},
   "source": [
    "### 4.5.2 편미분과 도형\n"
   ]
  },
  {
   "cell_type": "markdown",
   "id": "5e2f91e0",
   "metadata": {},
   "source": [
    "### 4.5.3 경사를 그림으로 나타내기"
   ]
  },
  {
   "cell_type": "code",
   "execution_count": 5,
   "id": "8bc32e37",
   "metadata": {},
   "outputs": [
    {
     "data": {
      "image/png": "[encoded data removed]",
      "text/plain": [
       "<Figure size 648x288 with 1 Axes>"
      ]
     },
     "metadata": {
      "needs_background": "light"
     },
     "output_type": "display_data"
    }
   ],
   "source": [
    "import numpy as np\n",
    "import matplotlib.pyplot as plt\n",
    "\n",
    "def f(w0, w1): # 함수 f 정의\n",
    "    return w0**2 + 2*w0*w1 + 3\n",
    "def df_dw0(w0, w1): # f의 w0에 대한 편미분\n",
    "    return 2*w0 + 2*w1\n",
    "def df_dw1(w0, w1): # f의 w1에 대한 편미분\n",
    "    return 2*w0 + 0*w1\n",
    "\n",
    "w_range = 2\n",
    "dw = 0.25\n",
    "\n",
    "w0 = np.arange(-w_range, w_range + dw, dw)\n",
    "w1 = np.arange(-w_range, w_range + dw, dw)\n",
    "wn = w0.shape[0]\n",
    "ww0, ww1 = np.meshgrid(w0, w1) # 격자 모양으로 나눈 w0과 w1을 2차원 배열 ww0, ww1에 저장.\n",
    "ff = np.zeros((len(w0), len(w1)))\n",
    "dff_dw0 = np.zeros((len(w0), len(w1)))\n",
    "dff_dw1 = np.zeros((len(w0), len(w1)))\n",
    "for i0 in range(wn): # 편미분 값 계산. ddf_dw0, ddf_dw1에 저장.\n",
    "    for i1 in range(wn):\n",
    "        ff[i1, i0] = f(w0[i0], w1[i1])\n",
    "        dff_dw0[i1, i0] = df_dw0(w0[i0], w1[i1])\n",
    "        dff_dw1[i1, i0] = df_dw1(w0[i0], w1[i1])\n",
    "\n",
    "plt.figure(figsize=(9, 4))\n",
    "plt.subplots_adjust(wspace=0.3)\n",
    "plt.subplot(1, 2, 1)\n",
    "cont = plt.contour(ww0, ww1, ff, 10, colors='k') # f의 등고선 표시\n",
    "cont.clabel(fmt='%2.0f', fontsize = 8)\n",
    "plt.xticks(range(-w_range, w_range+1, 1))\n",
    "plt.yticks(range(-w_range, w_range+1, 1))\n",
    "plt.xlim(-w_range - 0.5, w_range + 0.5)\n",
    "plt.ylim(-w_range - 0.5, w_range + 0.5)\n",
    "plt.xlabel(\"$w_0$\", fontsize = 14)\n",
    "plt.xlabel(\"$w_1$\", fontsize = 14)\n",
    "\n",
    "plt.subplot(1, 2, 1)\n",
    "plt.quiver(ww0, ww1, dff_dw0, dff_dw1) # f의 경사 벡터 표시. 좌표 점 (ww0, ww1)부터 방향 (ddf_dw0, dff_dw1)의 화살표를 그림.\n",
    "plt.xlabel('$w_0$', fontsize = 14)\n",
    "plt.xlabel('$w_1$', fontsize = 14)\n",
    "plt.xticks(range(-w_range, w_range+1, 1))\n",
    "plt.yticks(range(-w_range, w_range+1, 1))\n",
    "plt.xlim(-w_range - 0.5, w_range + 0.5)\n",
    "plt.ylim(-w_range - 0.5, w_range + 0.5)\n",
    "plt.show()\n",
    "\n",
    "# 벡터는 각 점에서 경사가 높은 쪽을 향하고 있음. 경사가 가파른 정도가 클수록(등고선 간격이 좁을수록) 화살표가 길다.\n",
    "# 화살표를 따라가거나, 역방향으로 가다보면 지형의 높은 부분, 낮은 부분에 도달한다 -> 경사가 함수의 최대점, 최소점을 찾는데 중요한 개념이 됨.\n",
    "# => 머신러닝에서 오차 함수의 최소점을 구하기 위해 오차 함수의 경사를 이용."
   ]
  },
  {
   "cell_type": "markdown",
   "id": "62433df6",
   "metadata": {},
   "source": [
    "### 4.5.4 다변수의 중첩 함수의 미분\n",
    "- 둘 이상의 독립 변수를 갖는 다변수 함수가 중첩되어 있을 때, 연쇄 법칙(chain rule)을 이용해 미분 가능하다.\n",
    "- 이는 여러층의 신경망의 학습 규칙을 도출할 때 사용.\n",
    "$$\\frac{\\partial}{\\partial w_0}f(g_0(w_0, w_1), g_1(w_0, w_1), \\cdots, g_M(w_0, w_1)) = \\sum_{m=0}^{M}{\\frac{\\partial f}{\\partial w_m}\\cdot\\frac{\\partial g_m}{\\partial w_0}}$$\n",
    "\n",
    "eg) $f = (g_0+2g_1-1)^2, g_0 = w_0+2w_1+1, g_1 = 2w_0+3w_1-1$ ($g_0, g_1$가 $w_0, w_1$의 함수에서, $f$가 $g_0, g_1$의 함수가 된 경우)\n",
    "\n",
    "- $\\frac{\\partial}{\\partial w_0}f(g_0(w_0, w_1), g_1(w_0, w_1)) = \\frac{\\partial f}{\\partial g_0}\\cdot\\frac{\\partial g_0}{\\partial w_0}+\\frac{\\partial f}{\\partial g_1}\\cdot\\frac{\\partial g_1}{\\partial w_0}$\n",
    "\n",
    "\n",
    "- $\\frac{\\partial f}{\\partial g_0} = 2(g_0+2g_1-1), \\frac{\\partial f}{\\partial g_1} = 2(g_0+2g_1-1)\\cdot2$\n",
    "\n",
    "\n",
    "- $\\frac{\\partial g_0}{\\partial w_0} = 1, \\frac{\\partial g_1}{\\partial w_0} = 2$\n",
    "    \n",
    "    $\\Rightarrow \\frac{\\partial f}{\\partial w_0} = 10g_0 + 20g_1 - 10$\n",
    "    \n",
    "    "
   ]
  },
  {
   "cell_type": "markdown",
   "id": "9e4c6f50",
   "metadata": {},
   "source": [
    "### 4.5.5 합과 미분의 교환\n",
    "미분과 합의 기호를 순서를 바꿀 수 있다.\n",
    "$$\\frac{\\partial}{\\partial w}\\sum_{n}{f_n(w)} = \\sum_{n}{\\frac{\\partial}{\\partial w}f_n(w)}$$"
   ]
  },
  {
   "cell_type": "markdown",
   "id": "549f8e4e",
   "metadata": {},
   "source": [
    "## 4.6 행렬"
   ]
  },
  {
   "cell_type": "markdown",
   "id": "43e9dd3a",
   "metadata": {},
   "source": [
    "### 4.6.1 행렬이란\n",
    " : 벡터를 표처럼 늘어놓은 것.\n",
    "$$A = \\begin{bmatrix}a_{0,0}&a_{0,1}&a_{0,2}\\\\a_{1,0}&a_{1,1}&a_{1,2}\\\\ \\end{bmatrix}$$\n",
    "- $[A]_{ij}$ : **A**의 i행 j열의 요소(성분)\n",
    "\n",
    "<center>eg) $2\\times3  행렬 A = \\begin{bmatrix}1&2&3\\\\4&5&6\\\\ \\end{bmatrix}, [A]_{01}=2$"
   ]
  },
  {
   "cell_type": "markdown",
   "id": "81e1e506",
   "metadata": {},
   "source": [
    "### 4.6.2 행렬의 덧셈과 뺄셈\n",
    ": 두 행렬이 동일한 크기일 때, 대응하는 요소에 대해 연산한다.\n",
    "\n",
    "eg) $A = \\begin{bmatrix}1&2&3\\\\4&5&6\\\\ \\end{bmatrix}, B = \\begin{bmatrix}7&8&9\\\\10&11&12\\\\ \\end{bmatrix}\\newline\n",
    "A+B= \\begin{bmatrix}1&2&3\\\\4&5&6\\\\ \\end{bmatrix} + \\begin{bmatrix}7&8&9\\\\10&11&12\\\\ \\end{bmatrix} = \n",
    "\\begin{bmatrix}1+7&2+8&3+9\\\\4+10&5+11&6+12\\\\ \\end{bmatrix} =\n",
    "\\begin{bmatrix}8&10&12\\\\14&16&18\\\\ \\end{bmatrix}$"
   ]
  },
  {
   "cell_type": "code",
   "execution_count": 3,
   "id": "e7df7238",
   "metadata": {},
   "outputs": [
    {
     "name": "stdout",
     "output_type": "stream",
     "text": [
      "[[ 8 10 12]\n",
      " [14 16 18]]\n",
      "[[-6 -6 -6]\n",
      " [-6 -6 -6]]\n"
     ]
    }
   ],
   "source": [
    "import numpy as np\n",
    "A = np.array([[1,2,3], [4,5,6]])\n",
    "B = np.array([[7,8,9], [10,11,12]])\n",
    "print(A+B)\n",
    "print(A-B)"
   ]
  },
  {
   "cell_type": "markdown",
   "id": "55d74f50",
   "metadata": {},
   "source": [
    "### 4.6.3 스칼라 배\n",
    "$$c\\begin{bmatrix}a_{0,0}&a_{0,1}&a_{0,2}\\\\a_{1,0}&a_{1,1}&a_{1,2}\\\\ \\end{bmatrix} = \\begin{bmatrix}ca_{0,0}&ca_{0,1}&ca_{0,2}\\\\ca_{1,0}&ca_{1,1}&ca_{1,2}\\\\ \\end{bmatrix}$$"
   ]
  },
  {
   "cell_type": "code",
   "execution_count": 4,
   "id": "1afde28f",
   "metadata": {},
   "outputs": [
    {
     "name": "stdout",
     "output_type": "stream",
     "text": [
      "[[ 2  4  6]\n",
      " [ 8 10 12]]\n"
     ]
    }
   ],
   "source": [
    "print(2*A)"
   ]
  },
  {
   "cell_type": "markdown",
   "id": "07efb414",
   "metadata": {},
   "source": [
    "### 4.6.4 행렬의 곱\n",
    ": $1\\times M$행렬과 $M\\times1$행렬의 곱은, 벡터의 내적. (두 벡터는 같은 길이여야 함)\n",
    "$$\\begin{bmatrix}a_0&a_1&\\cdots&a_{M-1}\\\\ \\end{bmatrix}\\begin{bmatrix}b_0\\\\b_1&\\\\\\vdots\\\\b_{M-1}\\\\ \\end{bmatrix} =\n",
    "\\sum_{m=0}^{M-1}{a_mb_m}$$\n",
    "\n",
    "$$[AB]_{i,j} = \\sum_{m=0}^{M-1}{a_{i,m}b_{m,j}}$$\n",
    "<center>(A의 열의 수와 B의 행의 수가 동일하지 않으면 행렬 곱을 계산할 수 없다.)</center>\n",
    "\n",
    "    \n",
    "\n",
    "eg) $A = \\begin{bmatrix}1&2&3\\\\ \\end{bmatrix}\\begin{bmatrix}4\\\\5\\\\6\\\\ \\end{bmatrix} = 1\\times4+2\\times5+3\\times6 = 32$\n",
    "\n",
    "- 가로 세로 크기가 동일한 정방 행렬의 경우 $AB, BA$를 모두 계산할 수 있다. 하지만 일반적으로 $AB=BA$인 것은 아니다. (곱의 순서 중요)"
   ]
  },
  {
   "cell_type": "code",
   "execution_count": 13,
   "id": "5a324099",
   "metadata": {},
   "outputs": [
    {
     "name": "stdout",
     "output_type": "stream",
     "text": [
      "[[ 7 16 27]\n",
      " [40 55 72]]\n",
      "[[0.14285714 0.25       0.33333333]\n",
      " [0.4        0.45454545 0.5       ]]\n",
      "[[ 50  68]\n",
      " [122 167]]\n"
     ]
    }
   ],
   "source": [
    "print(A*B) # 대응하는 요소 간의 곱셈\n",
    "print(A/B) # 대응하는 요소 간의 나눗셈\n",
    "print(A.dot(B.T))"
   ]
  },
  {
   "cell_type": "markdown",
   "id": "17027f61",
   "metadata": {},
   "source": [
    "### 4.6.5 단위 행렬\n",
    "- **$I$**(단위 행렬) : 대각선 성분이 1이고, 그 외에는 0인 특별한 정방 행렬\n",
    "- 일반 행렬에 단위 행렬을 곱해도 변하지 않는다.\n",
    "\n",
    "eg) $\\begin{bmatrix}1&2&3\\\\4&5&6\\\\7&8&9\\\\ \\end{bmatrix} \\begin{bmatrix}1&0&0\\\\0&1&0\\\\0&0&1\\\\ \\end{bmatrix} =\n",
    "\\begin{bmatrix}1+0+0&0+2+0&0+0+3\\\\4+0+0&0+5+0&0+0+6\\\\7+0+0&0+8+0&0+0+9\\\\ \\end{bmatrix} =\n",
    "\\begin{bmatrix}1&2&3\\\\4&5&6\\\\7&8&9\\\\ \\end{bmatrix}$"
   ]
  },
  {
   "cell_type": "code",
   "execution_count": 12,
   "id": "dd777cb3",
   "metadata": {},
   "outputs": [
    {
     "name": "stdout",
     "output_type": "stream",
     "text": [
      "[[1 2 3]\n",
      " [4 5 6]]\n",
      "[[1. 2. 3.]\n",
      " [4. 5. 6.]]\n"
     ]
    }
   ],
   "source": [
    "I = np.identity(3) # n x n 단위 행렬 생성\n",
    "print(A)\n",
    "print(A.dot(I)) # 단위 행렬을 곱해도 똑같음."
   ]
  },
  {
   "cell_type": "markdown",
   "id": "5b53ca22",
   "metadata": {},
   "source": [
    "### 4.6.6 역행렬\n",
    "- 역수 : 곱하면 1이 되는 수 $a\\times a^{-1}=1$\n",
    "- 역행렬 : 곱하면 단위 행렬 $I$가 되는 행렬 $AA^{-1}=A^{-1}A=I$ (정방 행렬에서만 정의 가능. $ad-bc=0$라면 역행렬을 가지지 않음.)\n",
    "\n",
    "eg) $2\\times2$ 행렬 $A=\\begin{bmatrix}a&b\\\\c&d\\\\ \\end{bmatrix}$의 역행렬 $A^{-1}=\\frac{1}{ad-bc}\\begin{bmatrix}d&-b\\\\-c&a\\\\ \\end{bmatrix}$"
   ]
  },
  {
   "cell_type": "code",
   "execution_count": 14,
   "id": "2521fff9",
   "metadata": {},
   "outputs": [
    {
     "name": "stdout",
     "output_type": "stream",
     "text": [
      "[[-2.   1. ]\n",
      " [ 1.5 -0.5]]\n"
     ]
    }
   ],
   "source": [
    "A = np.array([[1,2], [3,4]])\n",
    "invA = np.linalg.inv(A)\n",
    "print(invA)"
   ]
  },
  {
   "cell_type": "markdown",
   "id": "569e55e0",
   "metadata": {},
   "source": [
    "### 4.6.7 전치\n",
    "- 전치 행렬 : 행과 열을 교환한 행렬 eg) $A=\\begin{bmatrix}1&2&3\\\\4&5&6\\\\ \\end{bmatrix}, A^{-1}=\\begin{matrix}1&4\\\\2&5\\\\3&6\\\\ \\end{matrix}$\n",
    "\n",
    "- $[A]_{ij} = [A^T]_{ji}$\n",
    "\n",
    "\n",
    "- $(AB)^T = B^TA^T$\n",
    "\n",
    "\n",
    "- $(ABC)^T = C^T(AB)^T = C^TB^TA^T$"
   ]
  },
  {
   "cell_type": "code",
   "execution_count": 15,
   "id": "36088f2e",
   "metadata": {},
   "outputs": [
    {
     "name": "stdout",
     "output_type": "stream",
     "text": [
      "[[1 2 3]\n",
      " [4 5 6]]\n",
      "[[1 4]\n",
      " [2 5]\n",
      " [3 6]]\n"
     ]
    }
   ],
   "source": [
    "A = np.array([[1,2,3], [4,5,6]])\n",
    "print(A)\n",
    "print(A.T)"
   ]
  },
  {
   "cell_type": "markdown",
   "id": "01533fc8",
   "metadata": {},
   "source": [
    "### 4.6.8 행렬과 연립 방정식\n"
   ]
  },
  {
   "cell_type": "markdown",
   "id": "9a0eb9a7",
   "metadata": {},
   "source": [
    "### 4.6.9 행렬과 사상\n",
    "- 사상 : 그룹에서 그룹에 대응 관계를 제공하는 규칙.\n",
    "- 행렬 : 벡터를 다른 벡터로 변환하는 규칙. ($\\rightarrow$ 선형 사상linear map)\n",
    "\n",
    "eg)\n",
    "1. 사상 $\\begin{bmatrix}2&-1\\\\1&1\\\\ \\end{bmatrix}$\n",
    "- $\\begin{bmatrix}2&-1\\\\1&1\\\\ \\end{bmatrix}\\begin{bmatrix}x\\\\y \\end{bmatrix}=\\begin{bmatrix}2x-y\\\\x+y \\end{bmatrix}$\n",
    "=> 점 $\\begin{bmatrix}x\\\\y \\end{bmatrix}$를 점 $\\begin{bmatrix}2x-y\\\\x+y \\end{bmatrix}$로 이동시키는 사상.\n",
    "\n",
    "\n",
    "- $\\begin{bmatrix}x\\\\y \\end{bmatrix}=\\begin{bmatrix}1\\\\2 \\end{bmatrix} \\rightarrow \\begin{bmatrix}0\\\\3 \\end{bmatrix}$\n",
    "=> 점 $\\begin{bmatrix}1\\\\2 \\end{bmatrix}$이 행렬에 의해 $\\begin{bmatrix}0\\\\3 \\end{bmatrix}$로 이동한다.\n",
    "\n",
    "2. 사상 $\\begin{bmatrix}2&-1\\\\1&1\\\\ \\end{bmatrix}^{-1}$\n",
    "- $\\begin{bmatrix}2&-1\\\\1&1\\\\ \\end{bmatrix}^{-1}\\begin{bmatrix}x\\\\y \\end{bmatrix}=\\frac{1}{2}\\begin{bmatrix}x+y\\\\-x+2y \\end{bmatrix}$\n",
    "=> 점 $\\begin{bmatrix}x\\\\y \\end{bmatrix}$를 점 $\\frac{1}{2}\\begin{bmatrix}x+y\\\\-x+2y \\end{bmatrix}$로 이동시키는 사상.\n",
    "\n",
    "\n",
    "- $\\begin{bmatrix}x\\\\y \\end{bmatrix}=\\begin{bmatrix}0\\\\3 \\end{bmatrix} \\rightarrow \\begin{bmatrix}1\\\\2 \\end{bmatrix}$\n",
    "=> 점 $\\begin{bmatrix}0\\\\3 \\end{bmatrix}$이 행렬에 의해 $\\begin{bmatrix}1\\\\2 \\end{bmatrix}$로 이동한다."
   ]
  },
  {
   "cell_type": "markdown",
   "id": "c93e7ab5",
   "metadata": {},
   "source": [
    "## 4.7 지수 함수와 로그 함수"
   ]
  },
  {
   "cell_type": "markdown",
   "id": "4ff85922",
   "metadata": {},
   "source": [
    "### 4.7.1 지수\n",
    "- $y=a^x(a\\geq0, a\\neq1)$ a를 밑으로 하는 지수 함수. (항상 양수의 값)\n",
    "    - $a\\gt1$ : 단조 증가 그래프. $0\\gt a\\gt1$ : 단조 감소 그래프.\n",
    "    - 밑 $a$가 클수록 그래프는 급격히 증가.\n",
    "    - 항상 양수의 값을 지니므로, 음수와 양수를 모두 양수로 옮기는 함수로 쓰임."
   ]
  },
  {
   "cell_type": "code",
   "execution_count": 2,
   "id": "ed224d4b",
   "metadata": {},
   "outputs": [
    {
     "data": {
      "image/png": "[encoded data removed]",
      "text/plain": [
       "<Figure size 360x360 with 1 Axes>"
      ]
     },
     "metadata": {
      "needs_background": "light"
     },
     "output_type": "display_data"
    }
   ],
   "source": [
    "import numpy as np\n",
    "import matplotlib.pyplot as plt\n",
    "%matplotlib inline\n",
    "x = np.linspace(-4, 4, 100)\n",
    "y = 2**x\n",
    "y2 = 3**x\n",
    "y3 = 0.5**x\n",
    "\n",
    "plt.figure(figsize=(5,5))\n",
    "plt.plot(x, y, 'black', linewidth=3, label='$y=2^x$')\n",
    "plt.plot(x, y2, 'cornflowerblue', linewidth=3, label='$y=3^x$')\n",
    "plt.plot(x, y3, 'gray', linewidth=3, label='$y=0.5^x$')\n",
    "plt.ylim(-2, 6)\n",
    "plt.xlim(-4, 4)\n",
    "plt.grid(True)\n",
    "plt.legend(loc='lower right')\n",
    "plt.show()"
   ]
  },
  {
   "cell_type": "markdown",
   "id": "1e42a2d3",
   "metadata": {},
   "source": [
    "### 4.7.2 로그\n",
    "- 지수함수의 입력과 출력을 거꾸로한 것. 즉, 지수함수의 역함수. ($a\\gt0$의 범위에서만 정의)\n",
    "- 지수함수와 그 역함수인 로그함수는 $y=x$ 선을 기준으로 대칭.\n",
    "- $x$가 커질수록 기울기가 완만해짐.\n",
    "- 너무 크거나 작은 수를 다루기 쉬운 크기의 수로 만들어주는 함수."
   ]
  },
  {
   "cell_type": "code",
   "execution_count": 4,
   "id": "021636cb",
   "metadata": {},
   "outputs": [
    {
     "data": {
      "image/png": "[encoded data removed]",
      "text/plain": [
       "<Figure size 360x360 with 1 Axes>"
      ]
     },
     "metadata": {
      "needs_background": "light"
     },
     "output_type": "display_data"
    }
   ],
   "source": [
    "# 로그 : 지수함수의 역함수.\n",
    "x = np.linspace(-8, 8, 100)\n",
    "y = 2**x\n",
    "\n",
    "x2 = np.linspace(0.001, 8, 100)\n",
    "y2 = np.log(x2) / np.log(2)\n",
    "plt.figure(figsize=(5,5))\n",
    "plt.plot(x, y, 'black', linewidth=3) # 2^x의 방정식\n",
    "plt.plot(x2, y2, 'cornflowerblue', linewidth=3) # log_2 x 의 방정식\n",
    "plt.plot(x, x, 'black', linestyle='--') # 점선 스타일로 기울기가 1이고 원점을 지나는 직선의 방정식을 그린다.\n",
    "plt.ylim(-8, 8)\n",
    "plt.xlim(-8, 8)\n",
    "plt.grid(True)\n",
    "plt.show()"
   ]
  },
  {
   "cell_type": "markdown",
   "id": "82e67c33",
   "metadata": {},
   "source": [
    "- 로그의 성질 (곱셈을 덧셈으로 변환)\n",
    "$\\log \\sum_{n=1}^{N}{f(n)}=\\sum_{n=1}^{N}\\log f(n) \\rightarrow$ 추후 곱셈으로 표현되는 확률은 로그를 취한 로그 가능도(우도)로 쓰임.\n",
    "\n",
    "\n",
    "- 함수 $f(x)$에서 이를 최소화(또는 최대화)하는 $x$를 구할 때, $\\log f(x)$도 같은 $x$를 가진다. (단조 증가 함수이기 때문)\n",
    "    \n",
    "    $$\\underset{x}{argmin} f(x) = \\underset{x}{argmin} \\log f(x)$$\n",
    "    \n",
    "<center>- $\\underset{x}{min} f(x)$ : $f(x)$의 최솟값. $\\underset{x}{argmin} f(x)$ : $f(x)$가 최솟값을 취하는 $x$."
   ]
  },
  {
   "cell_type": "code",
   "execution_count": 6,
   "id": "047238e4",
   "metadata": {},
   "outputs": [
    {
     "data": {
      "image/png": "[encoded data removed]",
      "text/plain": [
       "<Figure size 288x288 with 1 Axes>"
      ]
     },
     "metadata": {
      "needs_background": "light"
     },
     "output_type": "display_data"
    }
   ],
   "source": [
    "x = np.linspace(-4, 4, 100)\n",
    "y = (x-1)**2 + 2\n",
    "logy = np.log(y)\n",
    "\n",
    "plt.figure(figsize=(4,4))\n",
    "plt.plot(x, y, 'black', linewidth=3)\n",
    "plt.plot(x, logy, 'cornflowerblue', linewidth=3)\n",
    "plt.yticks(range(-4, 9, 1))\n",
    "plt.xticks(range(-4, 5, 1))\n",
    "plt.ylim(-4, 8)\n",
    "plt.xlim(-4, 4)\n",
    "plt.grid(True)\n",
    "plt.show()"
   ]
  },
  {
   "cell_type": "markdown",
   "id": "62e51e12",
   "metadata": {},
   "source": [
    "### 4.7.3 지수 함수의 미분"
   ]
  }
 ],
 "metadata": {
  "kernelspec": {
   "display_name": "Python 3 (ipykernel)",
   "language": "python",
   "name": "python3"
  },
  "language_info": {
   "codemirror_mode": {
    "name": "ipython",
    "version": 3
   },
   "file_extension": ".py",
   "mimetype": "text/x-python",
   "name": "python",
   "nbconvert_exporter": "python",
   "pygments_lexer": "ipython3",
   "version": "3.9.12"
  }
 },
 "nbformat": 4,
 "nbformat_minor": 5
}
