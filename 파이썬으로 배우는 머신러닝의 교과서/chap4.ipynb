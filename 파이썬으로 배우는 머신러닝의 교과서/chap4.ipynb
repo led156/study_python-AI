{
 "cells": [
  {
   "cell_type": "markdown",
   "id": "182ab3d6",
   "metadata": {},
   "source": [
    "# CHAP4 머신러닝에 필요한 수학의 기본"
   ]
  },
  {
   "cell_type": "markdown",
   "id": "d05cc228",
   "metadata": {},
   "source": [
    "## 4.1 벡터"
   ]
  },
  {
   "cell_type": "markdown",
   "id": "bb82fa00",
   "metadata": {},
   "source": [
    "### 4.1.1 벡터란"
   ]
  },
  {
   "cell_type": "markdown",
   "id": "dc2914b2",
   "metadata": {},
   "source": [
    "- 세로 벡터 : $a = \\begin{bmatrix}1\\\\2\\\\ \\end{bmatrix}$, $b = \\begin{bmatrix}2\\\\1\\\\ \\end{bmatrix}$"
   ]
  },
  {
   "cell_type": "markdown",
   "id": "33158573",
   "metadata": {},
   "source": [
    "- 가로 벡터 : $c = \\begin{bmatrix}1&2\\\\ \\end{bmatrix}$, $d = \\begin{bmatrix}1&3&5&4\\\\ \\end{bmatrix}$"
   ]
  },
  {
   "cell_type": "markdown",
   "id": "46670b78",
   "metadata": {},
   "source": [
    "- 요소 : 벡터를 구성하는 숫자 하나하나.\n",
    "- 차원 : 벡터가 가지는 요소의 수 eg) **a** : 2차원 세로 벡터, **d** : 4차원 가로 벡터"
   ]
  },
  {
   "cell_type": "markdown",
   "id": "787c18f2",
   "metadata": {},
   "source": [
    "- 전치(T) : 세로 벡터 $\\rightarrow$ 가로 벡터, 가로 벡터 $\\rightarrow$ 세로 벡터\n",
    "\n",
    "    eg ) $a^T = \\begin{bmatrix}1\\\\3\\\\ \\end{bmatrix}^T = \\begin{bmatrix}1&3\\\\ \\end{bmatrix}$, $d^T = \\begin{bmatrix}1&3&5&4\\\\ \\end{bmatrix}^T = \\begin{bmatrix}1\\\\3\\\\5\\\\4\\\\ \\end{bmatrix}$"
   ]
  },
  {
   "cell_type": "markdown",
   "id": "088cfa53",
   "metadata": {},
   "source": [
    "### 4.1.2 파이썬으로 벡터를 정의하기"
   ]
  },
  {
   "cell_type": "code",
   "execution_count": 4,
   "id": "6526ef6d",
   "metadata": {},
   "outputs": [
    {
     "name": "stdout",
     "output_type": "stream",
     "text": [
      "[2 1] <class 'numpy.ndarray'>\n"
     ]
    }
   ],
   "source": [
    "import numpy as np\n",
    "a = np.array([2,1])\n",
    "print(a, type(a))"
   ]
  },
  {
   "cell_type": "markdown",
   "id": "92ea0bb0",
   "metadata": {},
   "source": [
    "### 4.1.3 세로 벡터를 나타내기"
   ]
  },
  {
   "cell_type": "code",
   "execution_count": 5,
   "id": "4f308374",
   "metadata": {},
   "outputs": [
    {
     "name": "stdout",
     "output_type": "stream",
     "text": [
      "[[1 2]\n",
      " [3 4]]\n"
     ]
    }
   ],
   "source": [
    "c=np.array([[1,2],[3,4]])\n",
    "print(c)"
   ]
  }
 ],
 "metadata": {
  "kernelspec": {
   "display_name": "Python 3 (ipykernel)",
   "language": "python",
   "name": "python3"
  },
  "language_info": {
   "codemirror_mode": {
    "name": "ipython",
    "version": 3
   },
   "file_extension": ".py",
   "mimetype": "text/x-python",
   "name": "python",
   "nbconvert_exporter": "python",
   "pygments_lexer": "ipython3",
   "version": "3.9.12"
  }
 },
 "nbformat": 4,
 "nbformat_minor": 5
}
